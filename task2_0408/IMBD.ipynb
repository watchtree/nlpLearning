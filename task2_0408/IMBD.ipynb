{
 "cells": [
  {
   "cell_type": "code",
   "execution_count": 1,
   "metadata": {},
   "outputs": [],
   "source": [
    "# -*- coding: utf-8 -*-\n",
    "import os\n",
    "import codecs\n",
    "pos_location='aclImdb/train/pos'\n",
    "pos_files=os.listdir(pos_location)\n",
    "neg_location='aclImdb/train/neg'\n",
    "neg_files=os.listdir(neg_location)\n",
    "pos_all=codecs.open('aclImdb/train/pos_all.txt','a',encoding='utf8')\n",
    "neg_all=codecs.open('aclImdb/train/neg_all.txt','a',encoding='utf8')\n"
   ]
  },
  {
   "cell_type": "code",
   "execution_count": 6,
   "metadata": {},
   "outputs": [],
   "source": [
    "all=[]\n",
    "for file in pos_files:\n",
    "    whole_location=os.path.join(pos_location,file)\n",
    "    with open(whole_location,'r',encoding='utf8') as f:\n",
    "        line=f.readlines()\n",
    "        all.extend(line)\n",
    "for file in all:\n",
    "    pos_all.write(file)\n",
    "    pos_all.write('\\n')"
   ]
  },
  {
   "cell_type": "code",
   "execution_count": 7,
   "metadata": {},
   "outputs": [],
   "source": [
    "alls=[]\n",
    "for file in neg_files:\n",
    "    whole_location=os.path.join(neg_location,file)\n",
    "    with open(whole_location,'r',encoding='utf8') as f:\n",
    "        line=f.readlines()\n",
    "        alls.extend(line)\n",
    "for file in alls:\n",
    "    neg_all.write(file)\n",
    "    neg_all.write('\\n')"
   ]
  },
  {
   "cell_type": "code",
   "execution_count": 8,
   "metadata": {},
   "outputs": [
    {
     "data": {
      "text/plain": [
       "\"Story of a man who has unnatural feelings for a pig. Starts out with a opening scene that is a terrific example of absurd comedy. A formal orchestra audience is turned into an insane, violent mob by the crazy chantings of it's singers. Unfortunately it stays absurd the WHOLE time with no general narrative eventually making it just too off putting. Even those from the era should be turned off. The cryptic dialogue would make Shakespeare seem easy to a third grader. On a technical level it's better than you might think with some good cinematography by future great Vilmos Zsigmond. Future stars Sally Kirkland and Frederic Forrest can be seen briefly.\""
      ]
     },
     "execution_count": 8,
     "metadata": {},
     "output_type": "execute_result"
    }
   ],
   "source": [
    "alls[0]"
   ]
  },
  {
   "cell_type": "code",
   "execution_count": null,
   "metadata": {},
   "outputs": [],
   "source": []
  }
 ],
 "metadata": {
  "kernelspec": {
   "display_name": "Python 3",
   "language": "python",
   "name": "python3"
  },
  "language_info": {
   "codemirror_mode": {
    "name": "ipython",
    "version": 3
   },
   "file_extension": ".py",
   "mimetype": "text/x-python",
   "name": "python",
   "nbconvert_exporter": "python",
   "pygments_lexer": "ipython3",
   "version": "3.7.1"
  }
 },
 "nbformat": 4,
 "nbformat_minor": 2
}
