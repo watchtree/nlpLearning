{
 "cells": [
  {
   "cell_type": "markdown",
   "metadata": {},
   "source": [
    "# 复习内容"
   ]
  },
  {
   "cell_type": "code",
   "execution_count": 1,
   "metadata": {},
   "outputs": [],
   "source": [
    "import numpy as np\n",
    "\n",
    "#创建实验样本，\n",
    "def loadDataSet():\n",
    "    postingList = [['my', 'dog', 'has', 'flea', 'problems', 'help', 'please'],\n",
    "                   ['maybe', 'not', 'take', 'him', 'to', 'dog', 'park', 'stupid'],\n",
    "                   ['my', 'dalmation', 'is', 'so', 'cute', 'I', 'love', 'him'],\n",
    "                   ['stop', 'posting', 'stupid', 'worthless', 'garbage'],\n",
    "                   ['mr', 'licks', 'ate', 'my', 'steak', 'how', 'to', 'stop', 'him'],\n",
    "                   ['quit', 'buying', 'worthless', 'dog', 'food', 'stupid']]\n",
    "    classVec = [0, 1, 0, 1, 0, 1]    #1 代表侮辱性的词汇，0不是，对应上面的语句列表\n",
    "    return postingList, classVec"
   ]
  },
  {
   "cell_type": "code",
   "execution_count": 2,
   "metadata": {},
   "outputs": [],
   "source": [
    "#创建一个包含在文档中中不存在重复的词的列表\n",
    "def createVocabList(dataSet):\n",
    "    vocabSet = set([])  #create empty set\n",
    "    for document in dataSet:\n",
    "        vocabSet = vocabSet | set(document) # 两个集合的并集\n",
    "    #vocabSet为一个不重复此表\n",
    "    return list(vocabSet) #返回转型为list\n",
    "\n",
    "#word2vec输入参数为词汇表，和一个文档\n",
    "#返回的文档向量，对应词汇表中的单词在输入文档中是否出现，创建一个相对应的向量\n",
    "def setOfWords2Vec(vocabList, inputSet):\n",
    "    returnVec = [0 for i in range(len(vocabList))]\n",
    "    for word in inputSet:\n",
    "        if word in vocabList:\n",
    "            returnVec[vocabList.index(word)] = 1\n",
    "        else: \n",
    "            print(\"the word: %s is not in my Vocabulary!\" % word)\n",
    "    return returnVec"
   ]
  },
  {
   "cell_type": "code",
   "execution_count": 3,
   "metadata": {},
   "outputs": [],
   "source": [
    "listOPosts, ListClasses = loadDataSet()\n",
    "myVocabList = createVocabList(listOPosts)"
   ]
  },
  {
   "cell_type": "code",
   "execution_count": 4,
   "metadata": {},
   "outputs": [
    {
     "data": {
      "text/plain": [
       "['my', 'dog', 'has', 'flea', 'problems', 'help', 'please']"
      ]
     },
     "execution_count": 4,
     "metadata": {},
     "output_type": "execute_result"
    }
   ],
   "source": [
    "listOPosts[0]"
   ]
  },
  {
   "cell_type": "code",
   "execution_count": 5,
   "metadata": {
    "scrolled": true
   },
   "outputs": [
    {
     "data": {
      "text/plain": [
       "[0,\n",
       " 0,\n",
       " 0,\n",
       " 0,\n",
       " 1,\n",
       " 0,\n",
       " 0,\n",
       " 0,\n",
       " 0,\n",
       " 0,\n",
       " 0,\n",
       " 0,\n",
       " 1,\n",
       " 0,\n",
       " 0,\n",
       " 0,\n",
       " 0,\n",
       " 0,\n",
       " 0,\n",
       " 0,\n",
       " 0,\n",
       " 0,\n",
       " 0,\n",
       " 1,\n",
       " 0,\n",
       " 0,\n",
       " 1,\n",
       " 0,\n",
       " 0,\n",
       " 1,\n",
       " 1,\n",
       " 1]"
      ]
     },
     "execution_count": 5,
     "metadata": {},
     "output_type": "execute_result"
    }
   ],
   "source": [
    "setOfWords2Vec(myVocabList, listOPosts[0])\n",
    "#对应listOPosts[0]文本特征为一行[1, vocabsize]的向量\n",
    "# vocabsize相当于特征"
   ]
  },
  {
   "cell_type": "code",
   "execution_count": 6,
   "metadata": {},
   "outputs": [],
   "source": [
    "#训练并计算概率\n",
    "def trainNB0(trainMatrix, trainCategory):\n",
    "    #trainMatrix——x\n",
    "    #trainCategory——y\n",
    "    numTrainDocs = len(trainMatrix) #训练数据数量\n",
    "    numWords = len(trainMatrix[0]) #数据词向量长度，特征数量\n",
    "    pAbusive = sum(trainCategory)/float(numTrainDocs) #正类别数量/样本总数\n",
    "    #同时作为出现正样本的概率\n",
    "    \n",
    "    p0Num = np.zeros(numWords); \n",
    "    p1Num = np.zeros(numWords)     #初始化概率计算的分子，由多少个词即有多少个\n",
    "    \n",
    "    p0Denom = 0\n",
    "    p1Denom = 0                        #分母变量初始化，此处加入初值2，作为平滑处理的值防止出现bug\n",
    "    \n",
    "    #统计对应正负样本各个属性特征的数量之和\n",
    "    #统计正负样本词综述\n",
    "    for i in range(numTrainDocs): #遍历每一个样本呢\n",
    "        if trainCategory[i] == 1: #如果对应分类=1\n",
    "            p1Num += trainMatrix[i] #对应词向量相加为相对应类的和\n",
    "            p1Denom += sum(trainMatrix[i]) #获取正样本总词语数量\n",
    "        else:\n",
    "            p0Num += trainMatrix[i]\n",
    "            p0Denom += sum(trainMatrix[i])#获取负样本总词语数量\n",
    "    p1Vect = (p1Num/p1Denom)          #当样本为正样本部分，n为词向量每个出现的概率\n",
    "    p0Vect = (p0Num/p0Denom)          #返回对应样本出现的概率\n",
    "    #即为计算在输出为正的情况下，出现各类属性特征的概率\n",
    "    \n",
    "    return p0Vect, p1Vect, pAbusive #返回两个向量，一个概率（正样本概率），二分类可求负样本概率"
   ]
  },
  {
   "cell_type": "code",
   "execution_count": 7,
   "metadata": {},
   "outputs": [],
   "source": [
    "listOPosts, listClasses = loadDataSet()\n",
    "trainMat = []\n",
    "for postinDoc in listOPosts:\n",
    "    trainMat.append(setOfWords2Vec(myVocabList, postinDoc))"
   ]
  },
  {
   "cell_type": "code",
   "execution_count": 8,
   "metadata": {},
   "outputs": [],
   "source": [
    "p0V, p1V, pAb = trainNB0(trainMat, listClasses)"
   ]
  },
  {
   "cell_type": "code",
   "execution_count": 9,
   "metadata": {},
   "outputs": [
    {
     "data": {
      "text/plain": [
       "(array([0.04166667, 0.04166667, 0.04166667, 0.04166667, 0.04166667,\n",
       "        0.        , 0.        , 0.04166667, 0.04166667, 0.        ,\n",
       "        0.        , 0.        , 0.04166667, 0.04166667, 0.        ,\n",
       "        0.        , 0.        , 0.04166667, 0.04166667, 0.        ,\n",
       "        0.08333333, 0.04166667, 0.        , 0.04166667, 0.04166667,\n",
       "        0.04166667, 0.04166667, 0.04166667, 0.        , 0.04166667,\n",
       "        0.125     , 0.04166667]),\n",
       " array([0.        , 0.        , 0.        , 0.        , 0.        ,\n",
       "        0.05263158, 0.05263158, 0.        , 0.        , 0.05263158,\n",
       "        0.05263158, 0.05263158, 0.        , 0.        , 0.05263158,\n",
       "        0.05263158, 0.05263158, 0.        , 0.        , 0.05263158,\n",
       "        0.05263158, 0.        , 0.10526316, 0.        , 0.05263158,\n",
       "        0.        , 0.        , 0.05263158, 0.15789474, 0.10526316,\n",
       "        0.        , 0.        ]),\n",
       " 0.5)"
      ]
     },
     "execution_count": 9,
     "metadata": {},
     "output_type": "execute_result"
    }
   ],
   "source": [
    "p0V, p1V, pAb"
   ]
  },
  {
   "cell_type": "code",
   "execution_count": 10,
   "metadata": {},
   "outputs": [],
   "source": [
    "# 朴素贝叶斯分类函数\n",
    "\n",
    "# 分类函数\n",
    "def classifyNB(vec2Classify, p0Vec, p1Vec, pClass1):\n",
    "    p1 = sum(vec2Classify * p1Vec) + np.log(pClass1)    #理论上求概率与类别相乘，由于p1vec即为log输出结果，因此与类别相乘改为相加\n",
    "    p0 = sum(vec2Classify * p0Vec) + np.log(1.0 - pClass1)#其实这里时概率相乘，但是因为改成log所以在此时在可以进行相加，条件概率假设独立\n",
    "    #求取在\n",
    "    if p1 > p0:\n",
    "        return 1\n",
    "    else:\n",
    "        return 0"
   ]
  },
  {
   "cell_type": "code",
   "execution_count": 11,
   "metadata": {},
   "outputs": [],
   "source": [
    "# 分类函数\n",
    "\n",
    "listOPosts, listClasses = loadDataSet()#生成样例数据\n",
    "myVocabList = createVocabList(listOPosts) #创建词向量列表\n",
    "trainMat = [] #初始化训练矩阵\n",
    "for postinDoc in listOPosts:\n",
    "    trainMat.append(setOfWords2Vec(myVocabList, postinDoc)) \n",
    "#生成训练集矩阵\n",
    "p0V, p1V, pAb = trainNB0(np.array(trainMat), np.array(listClasses))"
   ]
  },
  {
   "cell_type": "code",
   "execution_count": 12,
   "metadata": {},
   "outputs": [
    {
     "data": {
      "text/plain": [
       "0"
      ]
     },
     "execution_count": 12,
     "metadata": {},
     "output_type": "execute_result"
    }
   ],
   "source": [
    "# 返回输出预测值\n",
    "testEntry = ['love', 'my', 'dalmation']\n",
    "thisDoc = np.array(setOfWords2Vec(myVocabList, testEntry))#生成词向量\n",
    "\n",
    "classifyNB(thisDoc, p0V, p1V, pAb)"
   ]
  },
  {
   "cell_type": "markdown",
   "metadata": {},
   "source": [
    "# 文本向量处理"
   ]
  },
  {
   "cell_type": "code",
   "execution_count": 1,
   "metadata": {},
   "outputs": [],
   "source": [
    "import numpy as np\n",
    "import random \n",
    "with open(\"cnews/cnews.train.txt\", 'r', encoding=\"utf-8\") as file:\n",
    "    train = file.readlines()\n",
    "with open(\"cnews/cnews.test.txt\", 'r', encoding=\"utf-8\") as file:\n",
    "    test = file.readlines()"
   ]
  },
  {
   "cell_type": "code",
   "execution_count": 2,
   "metadata": {},
   "outputs": [],
   "source": [
    "def exactua(data):\n",
    "    random.shuffle(data) #数据集打乱\n",
    "    x_data = []\n",
    "    y_data = []\n",
    "    for line in data:\n",
    "        x_data.append(line.replace('\\n', '').split('\\t')[1])\n",
    "        y_data.append(line.replace('\\n', '').split('\\t')[0])\n",
    "    return x_data, y_data"
   ]
  },
  {
   "cell_type": "code",
   "execution_count": 3,
   "metadata": {},
   "outputs": [],
   "source": [
    "x_train_data, y_train_data = exactua(train)\n",
    "x_test_data, y_test_data = exactua(test)"
   ]
  },
  {
   "cell_type": "code",
   "execution_count": 4,
   "metadata": {
    "scrolled": true
   },
   "outputs": [],
   "source": [
    "# 1000条 训练集\n",
    "# 100条 测试\n",
    "x_train_data, y_train_data = x_train_data[:1000], y_train_data[:1000]\n",
    "x_test_data, y_test_data= x_test_data[:100], y_test_data[:100]"
   ]
  },
  {
   "cell_type": "code",
   "execution_count": 5,
   "metadata": {},
   "outputs": [],
   "source": [
    "import jieba \n",
    "\n",
    "def stopwordslist():\n",
    "    stopwords = [line.strip() for line in open('stopwords.txt',encoding='UTF-8').readlines()]\n",
    "    return stopwords"
   ]
  },
  {
   "cell_type": "code",
   "execution_count": 6,
   "metadata": {},
   "outputs": [],
   "source": [
    "stopwords = stopwordslist()"
   ]
  },
  {
   "cell_type": "code",
   "execution_count": 7,
   "metadata": {},
   "outputs": [],
   "source": [
    "def token(x_train_data, x_test_data):\n",
    "    #去停用词并进行结巴分词\n",
    "    trainlists = []\n",
    "    for i in x_train_data:\n",
    "        word_list = [word for word in jieba.cut(i) if word not in stopwords]\n",
    "        trainlists.append(' '.join(word_list))\n",
    "    testlists = []\n",
    "    for i in x_test_data:\n",
    "        word_list = [word for word in jieba.cut(i) if word not in stopwords]\n",
    "        testlists.append(' '.join(word_list))\n",
    "    return trainlists, testlists"
   ]
  },
  {
   "cell_type": "code",
   "execution_count": 8,
   "metadata": {},
   "outputs": [
    {
     "name": "stderr",
     "output_type": "stream",
     "text": [
      "Building prefix dict from the default dictionary ...\n",
      "Loading model from cache C:\\Users\\wttree\\AppData\\Local\\Temp\\jieba.cache\n",
      "Loading model cost 0.815 seconds.\n",
      "Prefix dict has been built succesfully.\n"
     ]
    },
    {
     "data": {
      "text/plain": [
       "100"
      ]
     },
     "execution_count": 8,
     "metadata": {},
     "output_type": "execute_result"
    }
   ],
   "source": [
    "x_train, x_test = token(x_train_data, x_test_data)\n",
    "len(x_train)\n",
    "len(x_test)"
   ]
  },
  {
   "cell_type": "code",
   "execution_count": 9,
   "metadata": {},
   "outputs": [],
   "source": [
    "def data2vec(x_train, x_test):\n",
    "    from sklearn.feature_extraction.text import CountVectorizer\n",
    "\n",
    "    count_vec=CountVectorizer(stop_words=stopwords) #创建词袋数据结构\n",
    "    X_count_train = count_vec.fit_transform(x_train)  #<class 'scipy.sparse.csr.csr_matrix'>\n",
    "    #train和test转化为特征向量\n",
    "    X_count_train= X_count_train.toarray()\n",
    "    X_count_test = count_vec.transform(x_test).toarray()   \n",
    "    return X_count_train, X_count_test, dict(count_vec.vocabulary_)"
   ]
  },
  {
   "cell_type": "code",
   "execution_count": 10,
   "metadata": {},
   "outputs": [
    {
     "name": "stderr",
     "output_type": "stream",
     "text": [
      "C:\\software\\anaconda\\lib\\site-packages\\sklearn\\feature_extraction\\text.py:300: UserWarning: Your stop_words may be inconsistent with your preprocessing. Tokenizing the stop words generated tokens ['lex', '①①', '①②', '①③', '①④', '①⑤', '①⑥', '①⑦', '①⑧', '①⑨', '①ａ', '①ｂ', '①ｃ', '①ｄ', '①ｅ', '①ｆ', '①ｇ', '①ｈ', '①ｉ', '①ｏ', '②①', '②②', '②③', '②④', '②⑤', '②⑥', '②⑦', '②⑧', '②⑩', '②ａ', '②ｂ', '②ｄ', '②ｅ', '②ｆ', '②ｇ', '②ｈ', '②ｉ', '②ｊ', '③①', '③⑩', '③ａ', '③ｂ', '③ｃ', '③ｄ', '③ｅ', '③ｆ', '③ｇ', '③ｈ', '④ａ', '④ｂ', '④ｃ', '④ｄ', '④ｅ', '⑤ａ', '⑤ｂ', '⑤ｄ', '⑤ｅ', '⑤ｆ', '１２', 'ｌｉ', 'ｚｘｆｉｔｌ'] not in stop_words.\n",
      "  'stop_words.' % sorted(inconsistent))\n"
     ]
    }
   ],
   "source": [
    "x_train, x_test, wordDic = data2vec(x_train, x_test)"
   ]
  },
  {
   "cell_type": "code",
   "execution_count": 11,
   "metadata": {
    "scrolled": false
   },
   "outputs": [
    {
     "data": {
      "text/plain": [
       "(1000, 40128)"
      ]
     },
     "execution_count": 11,
     "metadata": {},
     "output_type": "execute_result"
    }
   ],
   "source": [
    "x_train.shape"
   ]
  },
  {
   "cell_type": "code",
   "execution_count": 12,
   "metadata": {},
   "outputs": [
    {
     "name": "stdout",
     "output_type": "stream",
     "text": [
      "vocabulary:\n",
      "\n",
      "\n",
      "港交所 26792\n",
      "地产股 13671\n",
      "加速 10174\n",
      "分裂 9480\n",
      "富力 16402\n",
      "地产 13668\n",
      "风向标 39140\n",
      "理财 28254\n",
      "周报 12665\n",
      "记者 34428\n",
      "张伟 18393\n"
     ]
    }
   ],
   "source": [
    "print ('vocabulary:\\n\\n')\n",
    "count = 0 \n",
    "for key,value in wordDic.items():\n",
    "    print(key,value)\n",
    "    count += 1\n",
    "    if count > 10:\n",
    "        break"
   ]
  },
  {
   "cell_type": "code",
   "execution_count": 13,
   "metadata": {},
   "outputs": [],
   "source": [
    "def y2label(y_train, y_test):\n",
    "    dic = {}\n",
    "    count = 0\n",
    "    for i in set(y_train):\n",
    "        dic[i] = count \n",
    "        count += 1\n",
    "    y_train, y_test = [dic.get(i) for i in y_train_data], [dic.get(i) for i in y_test_data]\n",
    "    return y_train, y_test, dic"
   ]
  },
  {
   "cell_type": "code",
   "execution_count": 14,
   "metadata": {},
   "outputs": [],
   "source": [
    "y_train, y_test, dicLabel = y2label(y_train_data, y_test_data)"
   ]
  },
  {
   "cell_type": "code",
   "execution_count": 16,
   "metadata": {},
   "outputs": [
    {
     "data": {
      "text/plain": [
       "[6, 3, 2]"
      ]
     },
     "execution_count": 16,
     "metadata": {},
     "output_type": "execute_result"
    }
   ],
   "source": [
    "y_train[:3]"
   ]
  },
  {
   "cell_type": "markdown",
   "metadata": {},
   "source": [
    "## 贝叶斯分类器"
   ]
  },
  {
   "cell_type": "code",
   "execution_count": 56,
   "metadata": {},
   "outputs": [],
   "source": [
    "from sklearn.naive_bayes import MultinomialNB\n",
    "\n",
    "clf = MultinomialNB(alpha = 0.01).fit(x_train,y_train)#\n"
   ]
  },
  {
   "cell_type": "markdown",
   "metadata": {},
   "source": [
    "MultinomialNB（alpha = 1.0，fit_prior = True，class_prior = None)  \n",
    "Parameters:\t   \n",
    "alpha : float, optional (default=1.0)  \n",
    "Additive (Laplace/Lidstone) smoothing parameter (0 for no smoothing).  \n",
    "  \n",
    "fit_prior : boolean, optional (default=True)  \n",
    "Whether to learn class prior probabilities or not. If false, a uniform prior will be used.  \n",
    "\n",
    "class_prior : array-like, size (n_classes,), optional (default=None)  \n",
    "Prior probabilities of the classes. If specified the priors are not adjusted according to the data."
   ]
  },
  {
   "cell_type": "code",
   "execution_count": 57,
   "metadata": {
    "scrolled": true
   },
   "outputs": [
    {
     "name": "stdout",
     "output_type": "stream",
     "text": [
      "0.999\n"
     ]
    }
   ],
   "source": [
    "#  训练集测试\n",
    "result = clf.predict(x_train)\n",
    "count = 0\n",
    "for i in range(len(result)):\n",
    "    if result[i] == y_train[i]:\n",
    "        count += 1\n",
    "print(count/len(x_train))"
   ]
  },
  {
   "cell_type": "code",
   "execution_count": 58,
   "metadata": {},
   "outputs": [
    {
     "name": "stdout",
     "output_type": "stream",
     "text": [
      "0.87\n"
     ]
    }
   ],
   "source": [
    "#  测试集测试\n",
    "result = clf.predict(x_test)\n",
    "count = 0\n",
    "for i in range(len(result)):\n",
    "    if result[i] == y_test[i]:\n",
    "        count += 1\n",
    "print(count/len(x_test))"
   ]
  },
  {
   "cell_type": "markdown",
   "metadata": {},
   "source": [
    "# 结合Tf-idf 算法进行文本分类"
   ]
  },
  {
   "cell_type": "code",
   "execution_count": 105,
   "metadata": {},
   "outputs": [],
   "source": [
    "import numpy as np\n",
    "import random \n",
    "with open(\"cnews/cnews.train.txt\", 'r', encoding=\"utf-8\") as file:\n",
    "    train = file.readlines()\n",
    "with open(\"cnews/cnews.test.txt\", 'r', encoding=\"utf-8\") as file:\n",
    "    test = file.readlines()\n",
    "x_train_data, y_train_data = exactua(train)\n",
    "x_test_data, y_test_data = exactua(test)\n",
    "# 1000条 训练集\n",
    "# 100条 测试\n",
    "x_train_data, y_train_data = x_train_data[:1000], y_train_data[:1000]\n",
    "x_test_data, y_test_data= x_test_data[:100], y_test_data[:100]\n",
    "x_train, x_test = token(x_train_data, x_test_data)\n",
    "y_train, y_test, dicLabel = y2label(y_train_data, y_test_data)"
   ]
  },
  {
   "cell_type": "code",
   "execution_count": 106,
   "metadata": {},
   "outputs": [],
   "source": [
    "def data2vec(x_train, x_test):\n",
    "    from sklearn.feature_extraction.text import TfidfTransformer \n",
    "    from sklearn.feature_extraction.text import CountVectorizer \n",
    "    \n",
    "    count_vec=CountVectorizer(stop_words=stopwords) #创建词袋数据结构\n",
    "    transformer = TfidfTransformer()\n",
    "    X_count_train = count_vec.fit_transform(x_train)\n",
    "    X_count_test = count_vec.transform(x_test)\n",
    "    \n",
    "    X_train_tfidf = transformer.fit_transform(X_count_train).toarray()\n",
    "    X_test_tfidf = transformer.fit_transform(X_count_test).toarray()\n",
    "    return X_train_tfidf, X_test_tfidf"
   ]
  },
  {
   "cell_type": "code",
   "execution_count": 118,
   "metadata": {
    "scrolled": true
   },
   "outputs": [
    {
     "name": "stderr",
     "output_type": "stream",
     "text": [
      "C:\\software\\anaconda\\lib\\site-packages\\sklearn\\feature_extraction\\text.py:300: UserWarning: Your stop_words may be inconsistent with your preprocessing. Tokenizing the stop words generated tokens ['lex', '①①', '①②', '①③', '①④', '①⑤', '①⑥', '①⑦', '①⑧', '①⑨', '①ａ', '①ｂ', '①ｃ', '①ｄ', '①ｅ', '①ｆ', '①ｇ', '①ｈ', '①ｉ', '①ｏ', '②①', '②②', '②③', '②④', '②⑤', '②⑥', '②⑦', '②⑧', '②⑩', '②ａ', '②ｂ', '②ｄ', '②ｅ', '②ｆ', '②ｇ', '②ｈ', '②ｉ', '②ｊ', '③①', '③⑩', '③ａ', '③ｂ', '③ｃ', '③ｄ', '③ｅ', '③ｆ', '③ｇ', '③ｈ', '④ａ', '④ｂ', '④ｃ', '④ｄ', '④ｅ', '⑤ａ', '⑤ｂ', '⑤ｄ', '⑤ｅ', '⑤ｆ', '１２', 'ｌｉ', 'ｚｘｆｉｔｌ'] not in stop_words.\n",
      "  'stop_words.' % sorted(inconsistent))\n"
     ]
    }
   ],
   "source": [
    "x_train, x_test = data2vec(x_train, x_test)"
   ]
  },
  {
   "cell_type": "code",
   "execution_count": 119,
   "metadata": {},
   "outputs": [],
   "source": [
    "from sklearn.naive_bayes import MultinomialNB\n",
    "\n",
    "clf = MultinomialNB(alpha = 1).fit(x_train,y_train)#\n"
   ]
  },
  {
   "cell_type": "code",
   "execution_count": 120,
   "metadata": {},
   "outputs": [
    {
     "name": "stdout",
     "output_type": "stream",
     "text": [
      "0.992\n"
     ]
    }
   ],
   "source": [
    "#  训练集测试\n",
    "result = clf.predict(x_train)\n",
    "count = 0\n",
    "for i in range(len(result)):\n",
    "    if result[i] == y_train[i]:\n",
    "        count += 1\n",
    "print(count/len(x_train))"
   ]
  },
  {
   "cell_type": "code",
   "execution_count": 121,
   "metadata": {},
   "outputs": [
    {
     "name": "stdout",
     "output_type": "stream",
     "text": [
      "0.89\n"
     ]
    }
   ],
   "source": [
    "#  测试集测试\n",
    "result = clf.predict(x_test)\n",
    "count = 0\n",
    "for i in range(len(result)):\n",
    "    if result[i] == y_test[i]:\n",
    "        count += 1\n",
    "print(count/len(x_test))"
   ]
  },
  {
   "cell_type": "code",
   "execution_count": null,
   "metadata": {},
   "outputs": [],
   "source": []
  }
 ],
 "metadata": {
  "kernelspec": {
   "display_name": "Python 3",
   "language": "python",
   "name": "python3"
  },
  "language_info": {
   "codemirror_mode": {
    "name": "ipython",
    "version": 3
   },
   "file_extension": ".py",
   "mimetype": "text/x-python",
   "name": "python",
   "nbconvert_exporter": "python",
   "pygments_lexer": "ipython3",
   "version": "3.7.1"
  }
 },
 "nbformat": 4,
 "nbformat_minor": 2
}
